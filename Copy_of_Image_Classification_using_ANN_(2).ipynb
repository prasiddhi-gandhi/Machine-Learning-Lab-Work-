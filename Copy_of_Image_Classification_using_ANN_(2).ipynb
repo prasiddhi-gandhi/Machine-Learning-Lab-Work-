{
  "nbformat": 4,
  "nbformat_minor": 0,
  "metadata": {
    "colab": {
      "provenance": [],
      "include_colab_link": true
    },
    "kernelspec": {
      "name": "python3",
      "display_name": "Python 3"
    },
    "language_info": {
      "name": "python"
    },
    "accelerator": "GPU"
  },
  "cells": [
    {
      "cell_type": "markdown",
      "metadata": {
        "id": "view-in-github",
        "colab_type": "text"
      },
      "source": [
        "<a href=\"https://colab.research.google.com/github/prasiddhi-gandhi/Machine-Learning-Lab-Work-/blob/master/Copy_of_Image_Classification_using_ANN_(2).ipynb\" target=\"_parent\"><img src=\"https://colab.research.google.com/assets/colab-badge.svg\" alt=\"Open In Colab\"/></a>"
      ]
    },
    {
      "cell_type": "markdown",
      "metadata": {
        "id": "JT4a4dwlqhsd"
      },
      "source": [
        "# Joint Online Faculty Development programme on Deep Learning (Parallel Architecture) Aug 23 – Sep 3 , 2021"
      ]
    },
    {
      "cell_type": "markdown",
      "metadata": {
        "id": "XwMdAK1XqmPI"
      },
      "source": [
        "# Tutorial 4: Covid 19 Prediction using Artificial Neural Networks"
      ]
    },
    {
      "cell_type": "markdown",
      "metadata": {
        "id": "y9dbM1bxjvnU"
      },
      "source": [
        "Dataset: [Covid 19 Chest X-ray dataset](https://www.kaggle.com/tawsifurrahman/covid19-radiography-database)\n",
        "\n",
        "\n",
        "A team of researchers from Qatar University, Doha, Qatar, and the University of Dhaka, Bangladesh along with their collaborators from Pakistan and Malaysia in collaboration with medical doctors have created a database of chest X-ray images for COVID-19 positive cases along with Normal and Viral Pneumonia images. This COVID-19, normal, and other lung infection dataset is released in stages. In the first release, we have released 219 COVID-19, 1341 normal, and 1345 viral pneumonia chest X-ray (CXR) images. In the first update, we have increased the COVID-19 class to 1200 CXR images. In the 2nd update, we have increased the database to 3616 COVID-19 positive cases along with 10,192 Normal, 6012 Lung Opacity (Non-COVID lung infection), and 1345 Viral Pneumonia images. We will continue to update this database as soon as we have new x-ray images for COVID-19 pneumonia patients.\n",
        "\n"
      ]
    },
    {
      "cell_type": "markdown",
      "metadata": {
        "id": "9mHnC6nNtBK1"
      },
      "source": [
        "**1. Mount the Google Drive**"
      ]
    },
    {
      "cell_type": "code",
      "metadata": {
        "id": "gORvsC4_s_fY",
        "colab": {
          "base_uri": "https://localhost:8080/"
        },
        "outputId": "5c80b230-9d97-4b33-b9c6-71bb05600847"
      },
      "source": [
        "from google.colab import drive\n",
        "drive.mount('/content/drive')"
      ],
      "execution_count": null,
      "outputs": [
        {
          "output_type": "stream",
          "name": "stdout",
          "text": [
            "Mounted at /content/drive\n"
          ]
        }
      ]
    },
    {
      "cell_type": "markdown",
      "metadata": {
        "id": "wiZOocimtGeu"
      },
      "source": [
        "**2. Move to the place where data resides**"
      ]
    },
    {
      "cell_type": "code",
      "metadata": {
        "id": "EdbGFIkPlah9",
        "outputId": "808b35e1-7436-407d-fd8a-4e47939d7323",
        "colab": {
          "base_uri": "https://localhost:8080/"
        }
      },
      "source": [
        "cd /content/drive/MyDrive/covid_dataset (1)"
      ],
      "execution_count": null,
      "outputs": [
        {
          "output_type": "stream",
          "name": "stdout",
          "text": [
            "/content/drive/MyDrive/covid_dataset (1)\n"
          ]
        }
      ]
    },
    {
      "cell_type": "code",
      "metadata": {
        "id": "lqViJFpyjxJZ",
        "colab": {
          "base_uri": "https://localhost:8080/"
        },
        "outputId": "9a731883-11cd-4ec3-f06a-4e29fb913f60"
      },
      "source": [
        "!ls"
      ],
      "execution_count": null,
      "outputs": [
        {
          "output_type": "stream",
          "name": "stdout",
          "text": [
            "drive  sample_data\n"
          ]
        }
      ]
    },
    {
      "cell_type": "markdown",
      "metadata": {
        "id": "0e8v2RY-tKUs"
      },
      "source": [
        "**3. Unziping the dataset**"
      ]
    },
    {
      "cell_type": "code",
      "source": [
        "!pip install unzip"
      ],
      "metadata": {
        "colab": {
          "base_uri": "https://localhost:8080/"
        },
        "id": "PYfX_i50jzOc",
        "outputId": "ceb5e2c4-9840-43c5-fc6f-2701007d2382"
      },
      "execution_count": null,
      "outputs": [
        {
          "output_type": "stream",
          "name": "stdout",
          "text": [
            "Looking in indexes: https://pypi.org/simple, https://us-python.pkg.dev/colab-wheels/public/simple/\n",
            "Collecting unzip\n",
            "  Downloading unzip-1.0.0.tar.gz (704 bytes)\n",
            "  Preparing metadata (setup.py) ... \u001b[?25l\u001b[?25hdone\n",
            "Building wheels for collected packages: unzip\n",
            "  Building wheel for unzip (setup.py) ... \u001b[?25l\u001b[?25hdone\n",
            "  Created wheel for unzip: filename=unzip-1.0.0-py3-none-any.whl size=1310 sha256=61b987686c36b2e31826cddcc0fac8839b48b3dd2cc96ae1b6b98e9636a81b01\n",
            "  Stored in directory: /root/.cache/pip/wheels/88/2c/2b/d12ab5bb9f34eba42f98231b969311f33d7dc1a2f484b902d1\n",
            "Successfully built unzip\n",
            "Installing collected packages: unzip\n",
            "Successfully installed unzip-1.0.0\n"
          ]
        }
      ]
    },
    {
      "cell_type": "code",
      "metadata": {
        "id": "kOWDshT6lb8K",
        "colab": {
          "base_uri": "https://localhost:8080/"
        },
        "outputId": "7a0dc986-02c9-4d6d-ab2d-78b0f5ff84e1"
      },
      "source": [
        "!unzip covid_dataset.zip"
      ],
      "execution_count": null,
      "outputs": [
        {
          "output_type": "stream",
          "name": "stdout",
          "text": [
            "unzip:  cannot find or open covid_dataset.zip, covid_dataset.zip.zip or covid_dataset.zip.ZIP.\n"
          ]
        }
      ]
    },
    {
      "cell_type": "markdown",
      "metadata": {
        "id": "xvuRmzA0tNw0"
      },
      "source": [
        "**4. Install split folder python package**\n",
        "\n",
        "https://pypi.org/project/split-folders/"
      ]
    },
    {
      "cell_type": "code",
      "metadata": {
        "id": "r-4b_r2qlenB",
        "colab": {
          "base_uri": "https://localhost:8080/"
        },
        "outputId": "98a01e23-09d6-4648-c386-2a995f0e1586"
      },
      "source": [
        "!pip install split_folders"
      ],
      "execution_count": null,
      "outputs": [
        {
          "output_type": "stream",
          "name": "stdout",
          "text": [
            "Looking in indexes: https://pypi.org/simple, https://us-python.pkg.dev/colab-wheels/public/simple/\n",
            "Collecting split_folders\n",
            "  Downloading split_folders-0.5.1-py3-none-any.whl (8.4 kB)\n",
            "Installing collected packages: split_folders\n",
            "Successfully installed split_folders-0.5.1\n"
          ]
        }
      ]
    },
    {
      "cell_type": "markdown",
      "metadata": {
        "id": "yq0KuuUatVi-"
      },
      "source": [
        "**5. Splitting the data in training, testing and validation set**"
      ]
    },
    {
      "cell_type": "code",
      "metadata": {
        "id": "8xXGHVOIlheA",
        "colab": {
          "base_uri": "https://localhost:8080/"
        },
        "outputId": "3c4398ac-12a0-44a8-9c46-b73c404aed85"
      },
      "source": [
        "import splitfolders\n",
        "splitfolders.ratio(\"covid_dataset\", output=\"split\", seed=1337, ratio=(.8, .1, .1), group_prefix=None)"
      ],
      "execution_count": null,
      "outputs": [
        {
          "output_type": "stream",
          "name": "stderr",
          "text": [
            "Copying files: 130 files [01:27,  1.48 files/s]\n"
          ]
        }
      ]
    },
    {
      "cell_type": "markdown",
      "metadata": {
        "id": "4_rTBEKCtaTR"
      },
      "source": [
        "**6. Loading the dataset with normalization in batches**"
      ]
    },
    {
      "cell_type": "code",
      "metadata": {
        "id": "4of-TiQPlkCZ",
        "colab": {
          "base_uri": "https://localhost:8080/"
        },
        "outputId": "c0fb4196-b04f-45d0-e4cb-54fb0cbaaee7"
      },
      "source": [
        "from keras.preprocessing.image import ImageDataGenerator\n",
        "\n",
        "# Normalize training and validation data in the range of 0 to 1\n",
        "train_datagen = ImageDataGenerator(rescale=1./255)\n",
        "validation_datagen = ImageDataGenerator(rescale=1./255)\n",
        "test_datagen = ImageDataGenerator(rescale=1./255)\n",
        "\n",
        "# Read the training sample and set the batch size \n",
        "train_generator = train_datagen.flow_from_directory(\n",
        "        'split/train/',\n",
        "        target_size=(128, 128),\n",
        "        batch_size=8,\n",
        "        seed=100,\n",
        "        class_mode='categorical')\n",
        "\n",
        "# Read Validation data from directory and define target size with batch size\n",
        "validation_generator = validation_datagen.flow_from_directory(\n",
        "        'split/val/',\n",
        "        target_size=(128, 128),\n",
        "        batch_size=8,\n",
        "        class_mode='categorical',\n",
        "        seed=1000,\n",
        "        shuffle=False)\n",
        "\n",
        "test_generator = test_datagen.flow_from_directory(\n",
        "        'split/test/',\n",
        "        target_size=(128, 128),\n",
        "        batch_size=8,\n",
        "        seed=500,\n",
        "        class_mode='categorical',\n",
        "        shuffle=False)"
      ],
      "execution_count": null,
      "outputs": [
        {
          "output_type": "stream",
          "name": "stdout",
          "text": [
            "Found 104 images belonging to 3 classes.\n",
            "Found 13 images belonging to 3 classes.\n",
            "Found 13 images belonging to 3 classes.\n"
          ]
        }
      ]
    },
    {
      "cell_type": "markdown",
      "metadata": {
        "id": "ZqmlFmyitf8O"
      },
      "source": [
        "**7. Model Building**"
      ]
    },
    {
      "cell_type": "code",
      "metadata": {
        "id": "RrA7f0eKl4tH",
        "colab": {
          "base_uri": "https://localhost:8080/"
        },
        "outputId": "3c485e0f-4b19-4657-e939-4335d66deb14"
      },
      "source": [
        "from tensorflow import keras\n",
        "from tensorflow.keras import layers\n",
        "inputs = keras.Input(shape=(128, 128,3))\n",
        "x = layers.Flatten()(inputs)\n",
        "x = layers.Dense(32, activation=\"relu\")(x)\n",
        "x = layers.Dense(64, activation='relu')(x)\n",
        "outputs = layers.Dense(3, activation=\"softmax\")(x)\n",
        "model = keras.Model(inputs, outputs)\n",
        "model.summary()"
      ],
      "execution_count": null,
      "outputs": [
        {
          "output_type": "stream",
          "name": "stdout",
          "text": [
            "Model: \"model\"\n",
            "_________________________________________________________________\n",
            " Layer (type)                Output Shape              Param #   \n",
            "=================================================================\n",
            " input_1 (InputLayer)        [(None, 128, 128, 3)]     0         \n",
            "                                                                 \n",
            " flatten (Flatten)           (None, 49152)             0         \n",
            "                                                                 \n",
            " dense (Dense)               (None, 32)                1572896   \n",
            "                                                                 \n",
            " dense_1 (Dense)             (None, 64)                2112      \n",
            "                                                                 \n",
            " dense_2 (Dense)             (None, 3)                 195       \n",
            "                                                                 \n",
            "=================================================================\n",
            "Total params: 1,575,203\n",
            "Trainable params: 1,575,203\n",
            "Non-trainable params: 0\n",
            "_________________________________________________________________\n"
          ]
        }
      ]
    },
    {
      "cell_type": "markdown",
      "metadata": {
        "id": "_437haxhtjFa"
      },
      "source": [
        "**8. Model Compilation and Training**"
      ]
    },
    {
      "cell_type": "code",
      "metadata": {
        "id": "DixxjVJelrcg",
        "colab": {
          "base_uri": "https://localhost:8080/"
        },
        "outputId": "2d030744-d56c-48cc-c74b-68e225201148"
      },
      "source": [
        "from tensorflow.keras.optimizers import Adam\n",
        "\n",
        "adam = Adam(learning_rate=0.0001)\n",
        "# We are going to use accuracy metrics and cross entropy loss as performance parameters\n",
        "model.compile(adam, loss='categorical_crossentropy', metrics=['acc'])\n",
        "# Train the model \n",
        "history = model.fit(train_generator, \n",
        "      steps_per_epoch=train_generator.samples/train_generator.batch_size,\n",
        "      epochs=100,\n",
        "      validation_data=validation_generator,\n",
        "      validation_steps=validation_generator.samples/validation_generator.batch_size,\n",
        "      verbose=1)"
      ],
      "execution_count": null,
      "outputs": [
        {
          "output_type": "stream",
          "name": "stdout",
          "text": [
            "Epoch 1/100\n",
            "13/13 [==============================] - 6s 48ms/step - loss: 1.1263 - acc: 0.4135 - val_loss: 0.9584 - val_acc: 0.4615\n",
            "Epoch 2/100\n",
            "13/13 [==============================] - 0s 35ms/step - loss: 0.8922 - acc: 0.5962 - val_loss: 0.6448 - val_acc: 0.8462\n",
            "Epoch 3/100\n",
            "13/13 [==============================] - 0s 35ms/step - loss: 0.7122 - acc: 0.6827 - val_loss: 0.5441 - val_acc: 0.8462\n",
            "Epoch 4/100\n",
            "13/13 [==============================] - 0s 36ms/step - loss: 0.5733 - acc: 0.7404 - val_loss: 0.5889 - val_acc: 0.8462\n",
            "Epoch 5/100\n",
            "13/13 [==============================] - 0s 35ms/step - loss: 0.5435 - acc: 0.7692 - val_loss: 0.4880 - val_acc: 0.8462\n",
            "Epoch 6/100\n",
            "13/13 [==============================] - 0s 37ms/step - loss: 0.5015 - acc: 0.7692 - val_loss: 0.4471 - val_acc: 0.9231\n",
            "Epoch 7/100\n",
            "13/13 [==============================] - 0s 34ms/step - loss: 0.4690 - acc: 0.7981 - val_loss: 0.4569 - val_acc: 0.9231\n",
            "Epoch 8/100\n",
            "13/13 [==============================] - 0s 36ms/step - loss: 0.4255 - acc: 0.8365 - val_loss: 0.5126 - val_acc: 0.7692\n",
            "Epoch 9/100\n",
            "13/13 [==============================] - 0s 36ms/step - loss: 0.4817 - acc: 0.8077 - val_loss: 0.7014 - val_acc: 0.6923\n",
            "Epoch 10/100\n",
            "13/13 [==============================] - 0s 35ms/step - loss: 0.4222 - acc: 0.8173 - val_loss: 0.4698 - val_acc: 0.8462\n",
            "Epoch 11/100\n",
            "13/13 [==============================] - 0s 35ms/step - loss: 0.3967 - acc: 0.8558 - val_loss: 0.4130 - val_acc: 0.8462\n",
            "Epoch 12/100\n",
            "13/13 [==============================] - 0s 35ms/step - loss: 0.3337 - acc: 0.8846 - val_loss: 0.4262 - val_acc: 0.7692\n",
            "Epoch 13/100\n",
            "13/13 [==============================] - 1s 41ms/step - loss: 0.3660 - acc: 0.8846 - val_loss: 0.4891 - val_acc: 0.8462\n",
            "Epoch 14/100\n",
            "13/13 [==============================] - 1s 43ms/step - loss: 0.3285 - acc: 0.8942 - val_loss: 0.4462 - val_acc: 0.8462\n",
            "Epoch 15/100\n",
            "13/13 [==============================] - 1s 44ms/step - loss: 0.2943 - acc: 0.9327 - val_loss: 0.4122 - val_acc: 0.8462\n",
            "Epoch 16/100\n",
            "13/13 [==============================] - 1s 44ms/step - loss: 0.2764 - acc: 0.9231 - val_loss: 0.3722 - val_acc: 0.8462\n",
            "Epoch 17/100\n",
            "13/13 [==============================] - 1s 44ms/step - loss: 0.2863 - acc: 0.9135 - val_loss: 0.3933 - val_acc: 0.8462\n",
            "Epoch 18/100\n",
            "13/13 [==============================] - 1s 50ms/step - loss: 0.3325 - acc: 0.9038 - val_loss: 0.4505 - val_acc: 0.9231\n",
            "Epoch 19/100\n",
            "13/13 [==============================] - 1s 38ms/step - loss: 0.3017 - acc: 0.8846 - val_loss: 0.5611 - val_acc: 0.7692\n",
            "Epoch 20/100\n",
            "13/13 [==============================] - 0s 37ms/step - loss: 0.4043 - acc: 0.8365 - val_loss: 0.3904 - val_acc: 0.9231\n",
            "Epoch 21/100\n",
            "13/13 [==============================] - 0s 35ms/step - loss: 0.3313 - acc: 0.8558 - val_loss: 0.4475 - val_acc: 0.8462\n",
            "Epoch 22/100\n",
            "13/13 [==============================] - 0s 36ms/step - loss: 0.3757 - acc: 0.8558 - val_loss: 0.7068 - val_acc: 0.5385\n",
            "Epoch 23/100\n",
            "13/13 [==============================] - 0s 37ms/step - loss: 0.3816 - acc: 0.8462 - val_loss: 0.3638 - val_acc: 0.9231\n",
            "Epoch 24/100\n",
            "13/13 [==============================] - 0s 36ms/step - loss: 0.2426 - acc: 0.9038 - val_loss: 0.6136 - val_acc: 0.7692\n",
            "Epoch 25/100\n",
            "13/13 [==============================] - 0s 36ms/step - loss: 0.2901 - acc: 0.8654 - val_loss: 0.5606 - val_acc: 0.7692\n",
            "Epoch 26/100\n",
            "13/13 [==============================] - 0s 35ms/step - loss: 0.2114 - acc: 0.9327 - val_loss: 0.3515 - val_acc: 0.8462\n",
            "Epoch 27/100\n",
            "13/13 [==============================] - 0s 36ms/step - loss: 0.2000 - acc: 0.9519 - val_loss: 0.4692 - val_acc: 0.8462\n",
            "Epoch 28/100\n",
            "13/13 [==============================] - 0s 37ms/step - loss: 0.2451 - acc: 0.9327 - val_loss: 0.5106 - val_acc: 0.8462\n",
            "Epoch 29/100\n",
            "13/13 [==============================] - 0s 35ms/step - loss: 0.1672 - acc: 0.9519 - val_loss: 0.5371 - val_acc: 0.8462\n",
            "Epoch 30/100\n",
            "13/13 [==============================] - 0s 35ms/step - loss: 0.2077 - acc: 0.9519 - val_loss: 0.4036 - val_acc: 0.8462\n",
            "Epoch 31/100\n",
            "13/13 [==============================] - 0s 35ms/step - loss: 0.2031 - acc: 0.9423 - val_loss: 0.5622 - val_acc: 0.8462\n",
            "Epoch 32/100\n",
            "13/13 [==============================] - 0s 36ms/step - loss: 0.1766 - acc: 0.9423 - val_loss: 0.3962 - val_acc: 0.8462\n",
            "Epoch 33/100\n",
            "13/13 [==============================] - 0s 34ms/step - loss: 0.1548 - acc: 0.9615 - val_loss: 0.3719 - val_acc: 0.8462\n",
            "Epoch 34/100\n",
            "13/13 [==============================] - 0s 36ms/step - loss: 0.1396 - acc: 0.9615 - val_loss: 0.5306 - val_acc: 0.8462\n",
            "Epoch 35/100\n",
            "13/13 [==============================] - 0s 34ms/step - loss: 0.2076 - acc: 0.9135 - val_loss: 0.3135 - val_acc: 0.8462\n",
            "Epoch 36/100\n",
            "13/13 [==============================] - 0s 36ms/step - loss: 0.1985 - acc: 0.9519 - val_loss: 0.2788 - val_acc: 0.8462\n",
            "Epoch 37/100\n",
            "13/13 [==============================] - 0s 35ms/step - loss: 0.1372 - acc: 0.9808 - val_loss: 0.3540 - val_acc: 0.8462\n",
            "Epoch 38/100\n",
            "13/13 [==============================] - 1s 46ms/step - loss: 0.1339 - acc: 0.9615 - val_loss: 0.2804 - val_acc: 0.8462\n",
            "Epoch 39/100\n",
            "13/13 [==============================] - 1s 46ms/step - loss: 0.1317 - acc: 0.9519 - val_loss: 0.3676 - val_acc: 0.8462\n",
            "Epoch 40/100\n",
            "13/13 [==============================] - 1s 47ms/step - loss: 0.1164 - acc: 0.9712 - val_loss: 0.3277 - val_acc: 0.8462\n",
            "Epoch 41/100\n",
            "13/13 [==============================] - 1s 51ms/step - loss: 0.1134 - acc: 0.9904 - val_loss: 0.5627 - val_acc: 0.8462\n",
            "Epoch 42/100\n",
            "13/13 [==============================] - 0s 37ms/step - loss: 0.1704 - acc: 0.9519 - val_loss: 0.3192 - val_acc: 0.8462\n",
            "Epoch 43/100\n",
            "13/13 [==============================] - 0s 36ms/step - loss: 0.1528 - acc: 0.9519 - val_loss: 0.4602 - val_acc: 0.8462\n",
            "Epoch 44/100\n",
            "13/13 [==============================] - 0s 37ms/step - loss: 0.2508 - acc: 0.9038 - val_loss: 0.5004 - val_acc: 0.8462\n",
            "Epoch 45/100\n",
            "13/13 [==============================] - 0s 34ms/step - loss: 0.1266 - acc: 0.9519 - val_loss: 0.3726 - val_acc: 0.8462\n",
            "Epoch 46/100\n",
            "13/13 [==============================] - 0s 37ms/step - loss: 0.1189 - acc: 0.9615 - val_loss: 0.3507 - val_acc: 0.8462\n",
            "Epoch 47/100\n",
            "13/13 [==============================] - 0s 35ms/step - loss: 0.1019 - acc: 0.9808 - val_loss: 0.5242 - val_acc: 0.8462\n",
            "Epoch 48/100\n",
            "13/13 [==============================] - 0s 35ms/step - loss: 0.1175 - acc: 0.9808 - val_loss: 0.3586 - val_acc: 0.8462\n",
            "Epoch 49/100\n",
            "13/13 [==============================] - 0s 34ms/step - loss: 0.1373 - acc: 0.9712 - val_loss: 0.4913 - val_acc: 0.8462\n",
            "Epoch 50/100\n",
            "13/13 [==============================] - 0s 37ms/step - loss: 0.1347 - acc: 0.9327 - val_loss: 0.4111 - val_acc: 0.8462\n",
            "Epoch 51/100\n",
            "13/13 [==============================] - 0s 34ms/step - loss: 0.1353 - acc: 0.9327 - val_loss: 0.3645 - val_acc: 0.8462\n",
            "Epoch 52/100\n",
            "13/13 [==============================] - 0s 36ms/step - loss: 0.0973 - acc: 0.9904 - val_loss: 0.3087 - val_acc: 0.8462\n",
            "Epoch 53/100\n",
            "13/13 [==============================] - 0s 38ms/step - loss: 0.1189 - acc: 0.9327 - val_loss: 0.3890 - val_acc: 0.8462\n",
            "Epoch 54/100\n",
            "13/13 [==============================] - 1s 39ms/step - loss: 0.0839 - acc: 0.9808 - val_loss: 0.4955 - val_acc: 0.8462\n",
            "Epoch 55/100\n",
            "13/13 [==============================] - 0s 37ms/step - loss: 0.0639 - acc: 0.9904 - val_loss: 0.3840 - val_acc: 0.8462\n",
            "Epoch 56/100\n",
            "13/13 [==============================] - 0s 36ms/step - loss: 0.0756 - acc: 0.9904 - val_loss: 0.4877 - val_acc: 0.8462\n",
            "Epoch 57/100\n",
            "13/13 [==============================] - 0s 38ms/step - loss: 0.0692 - acc: 0.9712 - val_loss: 0.4240 - val_acc: 0.8462\n",
            "Epoch 58/100\n",
            "13/13 [==============================] - 0s 36ms/step - loss: 0.1168 - acc: 0.9615 - val_loss: 0.4561 - val_acc: 0.8462\n",
            "Epoch 59/100\n",
            "13/13 [==============================] - 1s 43ms/step - loss: 0.0755 - acc: 0.9808 - val_loss: 0.4353 - val_acc: 0.8462\n",
            "Epoch 60/100\n",
            "13/13 [==============================] - 0s 37ms/step - loss: 0.0852 - acc: 0.9808 - val_loss: 0.5371 - val_acc: 0.8462\n",
            "Epoch 61/100\n",
            "13/13 [==============================] - 0s 37ms/step - loss: 0.0606 - acc: 1.0000 - val_loss: 0.4918 - val_acc: 0.8462\n",
            "Epoch 62/100\n",
            "13/13 [==============================] - 1s 58ms/step - loss: 0.0575 - acc: 1.0000 - val_loss: 0.4459 - val_acc: 0.8462\n",
            "Epoch 63/100\n",
            "13/13 [==============================] - 1s 52ms/step - loss: 0.0628 - acc: 0.9904 - val_loss: 0.3908 - val_acc: 0.8462\n",
            "Epoch 64/100\n",
            "13/13 [==============================] - 1s 47ms/step - loss: 0.0579 - acc: 1.0000 - val_loss: 0.3567 - val_acc: 0.8462\n",
            "Epoch 65/100\n",
            "13/13 [==============================] - 0s 37ms/step - loss: 0.0551 - acc: 0.9904 - val_loss: 0.5817 - val_acc: 0.8462\n",
            "Epoch 66/100\n",
            "13/13 [==============================] - 1s 40ms/step - loss: 0.0683 - acc: 0.9808 - val_loss: 0.3883 - val_acc: 0.8462\n",
            "Epoch 67/100\n",
            "13/13 [==============================] - 1s 39ms/step - loss: 0.0617 - acc: 0.9808 - val_loss: 0.3646 - val_acc: 0.8462\n",
            "Epoch 68/100\n",
            "13/13 [==============================] - 1s 41ms/step - loss: 0.0437 - acc: 1.0000 - val_loss: 0.4121 - val_acc: 0.8462\n",
            "Epoch 69/100\n",
            "13/13 [==============================] - 1s 42ms/step - loss: 0.0466 - acc: 0.9904 - val_loss: 0.4337 - val_acc: 0.8462\n",
            "Epoch 70/100\n",
            "13/13 [==============================] - 0s 37ms/step - loss: 0.0433 - acc: 1.0000 - val_loss: 0.5017 - val_acc: 0.8462\n",
            "Epoch 71/100\n",
            "13/13 [==============================] - 0s 37ms/step - loss: 0.0432 - acc: 1.0000 - val_loss: 0.4358 - val_acc: 0.8462\n",
            "Epoch 72/100\n",
            "13/13 [==============================] - 1s 38ms/step - loss: 0.0453 - acc: 1.0000 - val_loss: 0.3403 - val_acc: 0.8462\n",
            "Epoch 73/100\n",
            "13/13 [==============================] - 0s 38ms/step - loss: 0.0493 - acc: 1.0000 - val_loss: 0.3960 - val_acc: 0.8462\n",
            "Epoch 74/100\n",
            "13/13 [==============================] - 0s 38ms/step - loss: 0.0410 - acc: 1.0000 - val_loss: 0.5203 - val_acc: 0.8462\n",
            "Epoch 75/100\n",
            "13/13 [==============================] - 1s 39ms/step - loss: 0.0376 - acc: 1.0000 - val_loss: 0.3773 - val_acc: 0.8462\n",
            "Epoch 76/100\n",
            "13/13 [==============================] - 0s 36ms/step - loss: 0.0353 - acc: 1.0000 - val_loss: 0.4487 - val_acc: 0.8462\n",
            "Epoch 77/100\n",
            "13/13 [==============================] - 0s 37ms/step - loss: 0.0314 - acc: 1.0000 - val_loss: 0.4418 - val_acc: 0.8462\n",
            "Epoch 78/100\n",
            "13/13 [==============================] - 1s 39ms/step - loss: 0.0306 - acc: 1.0000 - val_loss: 0.4133 - val_acc: 0.8462\n",
            "Epoch 79/100\n",
            "13/13 [==============================] - 0s 38ms/step - loss: 0.0373 - acc: 1.0000 - val_loss: 0.4598 - val_acc: 0.8462\n",
            "Epoch 80/100\n",
            "13/13 [==============================] - 1s 39ms/step - loss: 0.0343 - acc: 1.0000 - val_loss: 0.4979 - val_acc: 0.8462\n",
            "Epoch 81/100\n",
            "13/13 [==============================] - 0s 37ms/step - loss: 0.0473 - acc: 0.9904 - val_loss: 0.3476 - val_acc: 0.8462\n",
            "Epoch 82/100\n",
            "13/13 [==============================] - 0s 36ms/step - loss: 0.0340 - acc: 1.0000 - val_loss: 0.4988 - val_acc: 0.8462\n",
            "Epoch 83/100\n",
            "13/13 [==============================] - 1s 38ms/step - loss: 0.0349 - acc: 1.0000 - val_loss: 0.4726 - val_acc: 0.8462\n",
            "Epoch 84/100\n",
            "13/13 [==============================] - 1s 50ms/step - loss: 0.0319 - acc: 1.0000 - val_loss: 0.4292 - val_acc: 0.8462\n",
            "Epoch 85/100\n",
            "13/13 [==============================] - 1s 43ms/step - loss: 0.0277 - acc: 1.0000 - val_loss: 0.4304 - val_acc: 0.8462\n",
            "Epoch 86/100\n",
            "13/13 [==============================] - 1s 43ms/step - loss: 0.0269 - acc: 1.0000 - val_loss: 0.4180 - val_acc: 0.8462\n",
            "Epoch 87/100\n",
            "13/13 [==============================] - 1s 43ms/step - loss: 0.0248 - acc: 1.0000 - val_loss: 0.4474 - val_acc: 0.8462\n",
            "Epoch 88/100\n",
            "13/13 [==============================] - 1s 38ms/step - loss: 0.0247 - acc: 1.0000 - val_loss: 0.4610 - val_acc: 0.8462\n",
            "Epoch 89/100\n",
            "13/13 [==============================] - 0s 37ms/step - loss: 0.0311 - acc: 1.0000 - val_loss: 0.3964 - val_acc: 0.8462\n",
            "Epoch 90/100\n",
            "13/13 [==============================] - 1s 38ms/step - loss: 0.0240 - acc: 1.0000 - val_loss: 0.4825 - val_acc: 0.8462\n",
            "Epoch 91/100\n",
            "13/13 [==============================] - 0s 38ms/step - loss: 0.0247 - acc: 1.0000 - val_loss: 0.4620 - val_acc: 0.8462\n",
            "Epoch 92/100\n",
            "13/13 [==============================] - 0s 37ms/step - loss: 0.0320 - acc: 1.0000 - val_loss: 0.3909 - val_acc: 0.8462\n",
            "Epoch 93/100\n",
            "13/13 [==============================] - 0s 36ms/step - loss: 0.0386 - acc: 0.9904 - val_loss: 0.4706 - val_acc: 0.8462\n",
            "Epoch 94/100\n",
            "13/13 [==============================] - 0s 36ms/step - loss: 0.0229 - acc: 1.0000 - val_loss: 0.4614 - val_acc: 0.8462\n",
            "Epoch 95/100\n",
            "13/13 [==============================] - 0s 37ms/step - loss: 0.0225 - acc: 1.0000 - val_loss: 0.4239 - val_acc: 0.8462\n",
            "Epoch 96/100\n",
            "13/13 [==============================] - 0s 36ms/step - loss: 0.0202 - acc: 1.0000 - val_loss: 0.5007 - val_acc: 0.8462\n",
            "Epoch 97/100\n",
            "13/13 [==============================] - 0s 36ms/step - loss: 0.0222 - acc: 1.0000 - val_loss: 0.4070 - val_acc: 0.8462\n",
            "Epoch 98/100\n",
            "13/13 [==============================] - 0s 37ms/step - loss: 0.0322 - acc: 1.0000 - val_loss: 0.5593 - val_acc: 0.8462\n",
            "Epoch 99/100\n",
            "13/13 [==============================] - 0s 36ms/step - loss: 0.0237 - acc: 1.0000 - val_loss: 0.4211 - val_acc: 0.8462\n",
            "Epoch 100/100\n",
            "13/13 [==============================] - 1s 38ms/step - loss: 0.0382 - acc: 1.0000 - val_loss: 0.4693 - val_acc: 0.8462\n"
          ]
        }
      ]
    },
    {
      "cell_type": "markdown",
      "metadata": {
        "id": "7h2kqqa0tpx9"
      },
      "source": [
        "**9. Model saving**"
      ]
    },
    {
      "cell_type": "code",
      "metadata": {
        "id": "AMlZWxBhnfjh"
      },
      "source": [
        "model.save('covid_classification.h5')"
      ],
      "execution_count": null,
      "outputs": []
    },
    {
      "cell_type": "markdown",
      "metadata": {
        "id": "v64VrifGtsSn"
      },
      "source": [
        "**10. Model loading**"
      ]
    },
    {
      "cell_type": "code",
      "metadata": {
        "id": "h5kAXwzBoIzp"
      },
      "source": [
        "from tensorflow.keras import models\n",
        "model = models.load_model('covid_classification.h5')"
      ],
      "execution_count": null,
      "outputs": []
    },
    {
      "cell_type": "markdown",
      "metadata": {
        "id": "EuGiWfjQtvDq"
      },
      "source": [
        "**11. Model weights saving**"
      ]
    },
    {
      "cell_type": "code",
      "metadata": {
        "id": "brmKRhGtoZVA"
      },
      "source": [
        "model.save_weights('covid_classification_weights.h5')"
      ],
      "execution_count": null,
      "outputs": []
    },
    {
      "cell_type": "markdown",
      "metadata": {
        "id": "g_mHfakptxUF"
      },
      "source": [
        "**12. Model weights loading**"
      ]
    },
    {
      "cell_type": "code",
      "metadata": {
        "id": "Oc3YG_vioL9a"
      },
      "source": [
        "model.load_weights('covid_classification_weights.h5')"
      ],
      "execution_count": null,
      "outputs": []
    },
    {
      "cell_type": "markdown",
      "metadata": {
        "id": "YJhgz0AAtzcm"
      },
      "source": [
        "**13. Plotting accuracy and loss graph for training and validation dataset**"
      ]
    },
    {
      "cell_type": "code",
      "metadata": {
        "id": "lKLbBshSocU6"
      },
      "source": [
        "train_acc = history.history['acc']\n",
        "val_acc = history.history['val_acc']\n",
        "train_loss = history.history['loss']\n",
        "val_loss = history.history['val_loss']"
      ],
      "execution_count": null,
      "outputs": []
    },
    {
      "cell_type": "code",
      "metadata": {
        "id": "BfqOqEpVogvN",
        "colab": {
          "base_uri": "https://localhost:8080/",
          "height": 563
        },
        "outputId": "cece61db-9f48-4671-8afa-8b1e23d03bbd"
      },
      "source": [
        "import matplotlib.pyplot as plt\n",
        "epochs = range(len(train_acc)) \n",
        "plt.plot(epochs, train_acc, 'b', label='Training Accuracy')\n",
        "plt.plot(epochs, val_acc, 'r', label='Validation Accuracy')\n",
        "plt.title('Training and Validation Accuracy')\n",
        "plt.legend()\n",
        "plt.figure()\n",
        "plt.show()\n",
        "\n",
        "plt.plot(epochs, train_loss, 'b', label='Training Loss')\n",
        "plt.plot(epochs, val_loss, 'r', label='Validation Loss')\n",
        "plt.title('Training and Validation Loss')\n",
        "plt.legend()\n",
        "plt.show()\n"
      ],
      "execution_count": null,
      "outputs": [
        {
          "output_type": "display_data",
          "data": {
            "text/plain": [
              "<Figure size 432x288 with 1 Axes>"
            ],
            "image/png": "[encoded data removed]"
          },
          "metadata": {
            "needs_background": "light"
          }
        },
        {
          "output_type": "display_data",
          "data": {
            "text/plain": [
              "<Figure size 432x288 with 0 Axes>"
            ]
          },
          "metadata": {}
        },
        {
          "output_type": "display_data",
          "data": {
            "text/plain": [
              "<Figure size 432x288 with 1 Axes>"
            ],
            "image/png": "[encoded data removed]"
          },
          "metadata": {
            "needs_background": "light"
          }
        }
      ]
    },
    {
      "cell_type": "markdown",
      "metadata": {
        "id": "LoVhONtnt3sq"
      },
      "source": [
        "**14. Evaluate model performance on test dataset**"
      ]
    },
    {
      "cell_type": "code",
      "metadata": {
        "id": "dxXMTffHoiVy",
        "colab": {
          "base_uri": "https://localhost:8080/"
        },
        "outputId": "8193f691-737a-4ff9-bd9f-7bae35721de5"
      },
      "source": [
        "test_output= model.evaluate(test_generator, steps=test_generator.samples/test_generator.batch_size, verbose=1)\n",
        "print(test_output)\n",
        "print(model.metrics_names)"
      ],
      "execution_count": null,
      "outputs": [
        {
          "output_type": "stream",
          "name": "stdout",
          "text": [
            "1/1 [==============================] - 0s 39ms/step - loss: 0.2977 - acc: 0.9231\n",
            "[0.2977107763290405, 0.9230769276618958]\n",
            "['loss', 'acc']\n"
          ]
        }
      ]
    },
    {
      "cell_type": "markdown",
      "metadata": {
        "id": "inzAGua1o1we"
      },
      "source": [
        "References:\n",
        "\n",
        "1. https://pypi.org/project/split-folders/\n",
        "2. https://keras.io/"
      ]
    }
  ]
}